{
  "nbformat": 4,
  "nbformat_minor": 0,
  "metadata": {
    "colab": {
      "name": "2021_JJ.ipynb",
      "provenance": [],
      "collapsed_sections": [],
      "mount_file_id": "1P3ahXdB9YdZv1-3sXeFoJXHwNCIUtiZT",
      "authorship_tag": "ABX9TyPRGOD121tRYx7aOGmw2pKe",
      "include_colab_link": true
    },
    "kernelspec": {
      "name": "python3",
      "display_name": "Python 3"
    },
    "language_info": {
      "name": "python"
    }
  },
  "cells": [
    {
      "cell_type": "markdown",
      "metadata": {
        "id": "view-in-github",
        "colab_type": "text"
      },
      "source": [
        "<a href=\"https://colab.research.google.com/github/gringotts0324/first-git/blob/master/2021_JJ.ipynb\" target=\"_parent\"><img src=\"https://colab.research.google.com/assets/colab-badge.svg\" alt=\"Open In Colab\"/></a>"
      ]
    },
    {
      "cell_type": "code",
      "metadata": {
        "colab": {
          "base_uri": "https://localhost:8080/"
        },
        "id": "qIzhN5h-e8XV",
        "outputId": "b70f7567-fe09-41cf-ccbe-921795a84bfe"
      },
      "source": [
        "pip install pandas"
      ],
      "execution_count": 3,
      "outputs": [
        {
          "output_type": "stream",
          "text": [
            "Requirement already satisfied: pandas in /usr/local/lib/python3.7/dist-packages (1.1.5)\n",
            "Requirement already satisfied: python-dateutil>=2.7.3 in /usr/local/lib/python3.7/dist-packages (from pandas) (2.8.1)\n",
            "Requirement already satisfied: pytz>=2017.2 in /usr/local/lib/python3.7/dist-packages (from pandas) (2018.9)\n",
            "Requirement already satisfied: numpy>=1.15.4 in /usr/local/lib/python3.7/dist-packages (from pandas) (1.19.5)\n",
            "Requirement already satisfied: six>=1.5 in /usr/local/lib/python3.7/dist-packages (from python-dateutil>=2.7.3->pandas) (1.15.0)\n"
          ],
          "name": "stdout"
        }
      ]
    },
    {
      "cell_type": "code",
      "metadata": {
        "id": "gOedA-I-f_Fk"
      },
      "source": [
        "import pandas as pd"
      ],
      "execution_count": 4,
      "outputs": []
    },
    {
      "cell_type": "code",
      "metadata": {
        "id": "rbsiavUYgMRR"
      },
      "source": [
        "def individual(data_csv):\n",
        "    df = pd.read_csv(data_csv)\n",
        "    describe_df = df.describe\n",
        "    return(describe_df)\n",
        "    print(describe_df)"
      ],
      "execution_count": 5,
      "outputs": []
    },
    {
      "cell_type": "code",
      "metadata": {
        "colab": {
          "base_uri": "https://localhost:8080/",
          "height": 375
        },
        "id": "Cwb5aH0cgNTj",
        "outputId": "ec454945-5b2e-4792-b05f-25b73d702992"
      },
      "source": [
        "individual(\"sample.csv\")"
      ],
      "execution_count": 7,
      "outputs": [
        {
          "output_type": "error",
          "ename": "FileNotFoundError",
          "evalue": "ignored",
          "traceback": [
            "\u001b[0;31m---------------------------------------------------------------------------\u001b[0m",
            "\u001b[0;31mFileNotFoundError\u001b[0m                         Traceback (most recent call last)",
            "\u001b[0;32m<ipython-input-7-925303a3cccf>\u001b[0m in \u001b[0;36m<module>\u001b[0;34m()\u001b[0m\n\u001b[0;32m----> 1\u001b[0;31m \u001b[0mindividual\u001b[0m\u001b[0;34m(\u001b[0m\u001b[0;34m\"sample.csv\"\u001b[0m\u001b[0;34m)\u001b[0m\u001b[0;34m\u001b[0m\u001b[0;34m\u001b[0m\u001b[0m\n\u001b[0m",
            "\u001b[0;32m<ipython-input-5-7a58cb1e08c5>\u001b[0m in \u001b[0;36mindividual\u001b[0;34m(data_csv)\u001b[0m\n\u001b[1;32m      1\u001b[0m \u001b[0;32mdef\u001b[0m \u001b[0mindividual\u001b[0m\u001b[0;34m(\u001b[0m\u001b[0mdata_csv\u001b[0m\u001b[0;34m)\u001b[0m\u001b[0;34m:\u001b[0m\u001b[0;34m\u001b[0m\u001b[0;34m\u001b[0m\u001b[0m\n\u001b[0;32m----> 2\u001b[0;31m     \u001b[0mdf\u001b[0m \u001b[0;34m=\u001b[0m \u001b[0mpd\u001b[0m\u001b[0;34m.\u001b[0m\u001b[0mread_csv\u001b[0m\u001b[0;34m(\u001b[0m\u001b[0;34m\"data_csv\"\u001b[0m\u001b[0;34m)\u001b[0m\u001b[0;34m\u001b[0m\u001b[0;34m\u001b[0m\u001b[0m\n\u001b[0m\u001b[1;32m      3\u001b[0m     \u001b[0mdescribe_df\u001b[0m \u001b[0;34m=\u001b[0m \u001b[0mdf\u001b[0m\u001b[0;34m.\u001b[0m\u001b[0mdescribe\u001b[0m\u001b[0;34m\u001b[0m\u001b[0;34m\u001b[0m\u001b[0m\n\u001b[1;32m      4\u001b[0m     \u001b[0;32mreturn\u001b[0m\u001b[0;34m(\u001b[0m\u001b[0mdescribe_df\u001b[0m\u001b[0;34m)\u001b[0m\u001b[0;34m\u001b[0m\u001b[0;34m\u001b[0m\u001b[0m\n\u001b[1;32m      5\u001b[0m     \u001b[0mprint\u001b[0m\u001b[0;34m(\u001b[0m\u001b[0mdescribe_df\u001b[0m\u001b[0;34m)\u001b[0m\u001b[0;34m\u001b[0m\u001b[0;34m\u001b[0m\u001b[0m\n",
            "\u001b[0;32m/usr/local/lib/python3.7/dist-packages/pandas/io/parsers.py\u001b[0m in \u001b[0;36mread_csv\u001b[0;34m(filepath_or_buffer, sep, delimiter, header, names, index_col, usecols, squeeze, prefix, mangle_dupe_cols, dtype, engine, converters, true_values, false_values, skipinitialspace, skiprows, skipfooter, nrows, na_values, keep_default_na, na_filter, verbose, skip_blank_lines, parse_dates, infer_datetime_format, keep_date_col, date_parser, dayfirst, cache_dates, iterator, chunksize, compression, thousands, decimal, lineterminator, quotechar, quoting, doublequote, escapechar, comment, encoding, dialect, error_bad_lines, warn_bad_lines, delim_whitespace, low_memory, memory_map, float_precision)\u001b[0m\n\u001b[1;32m    686\u001b[0m     )\n\u001b[1;32m    687\u001b[0m \u001b[0;34m\u001b[0m\u001b[0m\n\u001b[0;32m--> 688\u001b[0;31m     \u001b[0;32mreturn\u001b[0m \u001b[0m_read\u001b[0m\u001b[0;34m(\u001b[0m\u001b[0mfilepath_or_buffer\u001b[0m\u001b[0;34m,\u001b[0m \u001b[0mkwds\u001b[0m\u001b[0;34m)\u001b[0m\u001b[0;34m\u001b[0m\u001b[0;34m\u001b[0m\u001b[0m\n\u001b[0m\u001b[1;32m    689\u001b[0m \u001b[0;34m\u001b[0m\u001b[0m\n\u001b[1;32m    690\u001b[0m \u001b[0;34m\u001b[0m\u001b[0m\n",
            "\u001b[0;32m/usr/local/lib/python3.7/dist-packages/pandas/io/parsers.py\u001b[0m in \u001b[0;36m_read\u001b[0;34m(filepath_or_buffer, kwds)\u001b[0m\n\u001b[1;32m    452\u001b[0m \u001b[0;34m\u001b[0m\u001b[0m\n\u001b[1;32m    453\u001b[0m     \u001b[0;31m# Create the parser.\u001b[0m\u001b[0;34m\u001b[0m\u001b[0;34m\u001b[0m\u001b[0;34m\u001b[0m\u001b[0m\n\u001b[0;32m--> 454\u001b[0;31m     \u001b[0mparser\u001b[0m \u001b[0;34m=\u001b[0m \u001b[0mTextFileReader\u001b[0m\u001b[0;34m(\u001b[0m\u001b[0mfp_or_buf\u001b[0m\u001b[0;34m,\u001b[0m \u001b[0;34m**\u001b[0m\u001b[0mkwds\u001b[0m\u001b[0;34m)\u001b[0m\u001b[0;34m\u001b[0m\u001b[0;34m\u001b[0m\u001b[0m\n\u001b[0m\u001b[1;32m    455\u001b[0m \u001b[0;34m\u001b[0m\u001b[0m\n\u001b[1;32m    456\u001b[0m     \u001b[0;32mif\u001b[0m \u001b[0mchunksize\u001b[0m \u001b[0;32mor\u001b[0m \u001b[0miterator\u001b[0m\u001b[0;34m:\u001b[0m\u001b[0;34m\u001b[0m\u001b[0;34m\u001b[0m\u001b[0m\n",
            "\u001b[0;32m/usr/local/lib/python3.7/dist-packages/pandas/io/parsers.py\u001b[0m in \u001b[0;36m__init__\u001b[0;34m(self, f, engine, **kwds)\u001b[0m\n\u001b[1;32m    946\u001b[0m             \u001b[0mself\u001b[0m\u001b[0;34m.\u001b[0m\u001b[0moptions\u001b[0m\u001b[0;34m[\u001b[0m\u001b[0;34m\"has_index_names\"\u001b[0m\u001b[0;34m]\u001b[0m \u001b[0;34m=\u001b[0m \u001b[0mkwds\u001b[0m\u001b[0;34m[\u001b[0m\u001b[0;34m\"has_index_names\"\u001b[0m\u001b[0;34m]\u001b[0m\u001b[0;34m\u001b[0m\u001b[0;34m\u001b[0m\u001b[0m\n\u001b[1;32m    947\u001b[0m \u001b[0;34m\u001b[0m\u001b[0m\n\u001b[0;32m--> 948\u001b[0;31m         \u001b[0mself\u001b[0m\u001b[0;34m.\u001b[0m\u001b[0m_make_engine\u001b[0m\u001b[0;34m(\u001b[0m\u001b[0mself\u001b[0m\u001b[0;34m.\u001b[0m\u001b[0mengine\u001b[0m\u001b[0;34m)\u001b[0m\u001b[0;34m\u001b[0m\u001b[0;34m\u001b[0m\u001b[0m\n\u001b[0m\u001b[1;32m    949\u001b[0m \u001b[0;34m\u001b[0m\u001b[0m\n\u001b[1;32m    950\u001b[0m     \u001b[0;32mdef\u001b[0m \u001b[0mclose\u001b[0m\u001b[0;34m(\u001b[0m\u001b[0mself\u001b[0m\u001b[0;34m)\u001b[0m\u001b[0;34m:\u001b[0m\u001b[0;34m\u001b[0m\u001b[0;34m\u001b[0m\u001b[0m\n",
            "\u001b[0;32m/usr/local/lib/python3.7/dist-packages/pandas/io/parsers.py\u001b[0m in \u001b[0;36m_make_engine\u001b[0;34m(self, engine)\u001b[0m\n\u001b[1;32m   1178\u001b[0m     \u001b[0;32mdef\u001b[0m \u001b[0m_make_engine\u001b[0m\u001b[0;34m(\u001b[0m\u001b[0mself\u001b[0m\u001b[0;34m,\u001b[0m \u001b[0mengine\u001b[0m\u001b[0;34m=\u001b[0m\u001b[0;34m\"c\"\u001b[0m\u001b[0;34m)\u001b[0m\u001b[0;34m:\u001b[0m\u001b[0;34m\u001b[0m\u001b[0;34m\u001b[0m\u001b[0m\n\u001b[1;32m   1179\u001b[0m         \u001b[0;32mif\u001b[0m \u001b[0mengine\u001b[0m \u001b[0;34m==\u001b[0m \u001b[0;34m\"c\"\u001b[0m\u001b[0;34m:\u001b[0m\u001b[0;34m\u001b[0m\u001b[0;34m\u001b[0m\u001b[0m\n\u001b[0;32m-> 1180\u001b[0;31m             \u001b[0mself\u001b[0m\u001b[0;34m.\u001b[0m\u001b[0m_engine\u001b[0m \u001b[0;34m=\u001b[0m \u001b[0mCParserWrapper\u001b[0m\u001b[0;34m(\u001b[0m\u001b[0mself\u001b[0m\u001b[0;34m.\u001b[0m\u001b[0mf\u001b[0m\u001b[0;34m,\u001b[0m \u001b[0;34m**\u001b[0m\u001b[0mself\u001b[0m\u001b[0;34m.\u001b[0m\u001b[0moptions\u001b[0m\u001b[0;34m)\u001b[0m\u001b[0;34m\u001b[0m\u001b[0;34m\u001b[0m\u001b[0m\n\u001b[0m\u001b[1;32m   1181\u001b[0m         \u001b[0;32melse\u001b[0m\u001b[0;34m:\u001b[0m\u001b[0;34m\u001b[0m\u001b[0;34m\u001b[0m\u001b[0m\n\u001b[1;32m   1182\u001b[0m             \u001b[0;32mif\u001b[0m \u001b[0mengine\u001b[0m \u001b[0;34m==\u001b[0m \u001b[0;34m\"python\"\u001b[0m\u001b[0;34m:\u001b[0m\u001b[0;34m\u001b[0m\u001b[0;34m\u001b[0m\u001b[0m\n",
            "\u001b[0;32m/usr/local/lib/python3.7/dist-packages/pandas/io/parsers.py\u001b[0m in \u001b[0;36m__init__\u001b[0;34m(self, src, **kwds)\u001b[0m\n\u001b[1;32m   2008\u001b[0m         \u001b[0mkwds\u001b[0m\u001b[0;34m[\u001b[0m\u001b[0;34m\"usecols\"\u001b[0m\u001b[0;34m]\u001b[0m \u001b[0;34m=\u001b[0m \u001b[0mself\u001b[0m\u001b[0;34m.\u001b[0m\u001b[0musecols\u001b[0m\u001b[0;34m\u001b[0m\u001b[0;34m\u001b[0m\u001b[0m\n\u001b[1;32m   2009\u001b[0m \u001b[0;34m\u001b[0m\u001b[0m\n\u001b[0;32m-> 2010\u001b[0;31m         \u001b[0mself\u001b[0m\u001b[0;34m.\u001b[0m\u001b[0m_reader\u001b[0m \u001b[0;34m=\u001b[0m \u001b[0mparsers\u001b[0m\u001b[0;34m.\u001b[0m\u001b[0mTextReader\u001b[0m\u001b[0;34m(\u001b[0m\u001b[0msrc\u001b[0m\u001b[0;34m,\u001b[0m \u001b[0;34m**\u001b[0m\u001b[0mkwds\u001b[0m\u001b[0;34m)\u001b[0m\u001b[0;34m\u001b[0m\u001b[0;34m\u001b[0m\u001b[0m\n\u001b[0m\u001b[1;32m   2011\u001b[0m         \u001b[0mself\u001b[0m\u001b[0;34m.\u001b[0m\u001b[0munnamed_cols\u001b[0m \u001b[0;34m=\u001b[0m \u001b[0mself\u001b[0m\u001b[0;34m.\u001b[0m\u001b[0m_reader\u001b[0m\u001b[0;34m.\u001b[0m\u001b[0munnamed_cols\u001b[0m\u001b[0;34m\u001b[0m\u001b[0;34m\u001b[0m\u001b[0m\n\u001b[1;32m   2012\u001b[0m \u001b[0;34m\u001b[0m\u001b[0m\n",
            "\u001b[0;32mpandas/_libs/parsers.pyx\u001b[0m in \u001b[0;36mpandas._libs.parsers.TextReader.__cinit__\u001b[0;34m()\u001b[0m\n",
            "\u001b[0;32mpandas/_libs/parsers.pyx\u001b[0m in \u001b[0;36mpandas._libs.parsers.TextReader._setup_parser_source\u001b[0;34m()\u001b[0m\n",
            "\u001b[0;31mFileNotFoundError\u001b[0m: [Errno 2] No such file or directory: 'data_csv'"
          ]
        }
      ]
    },
    {
      "cell_type": "code",
      "metadata": {
        "id": "3vROWlxzgQtU"
      },
      "source": [
        "df_raw = pd.read_csv(\"sample.csv\")"
      ],
      "execution_count": 103,
      "outputs": []
    },
    {
      "cell_type": "code",
      "metadata": {
        "id": "ouuFS-iVgoOs"
      },
      "source": [
        "def individual(df_raw, alpha): \n",
        " # 2021_trust_GCE\n",
        "\n",
        "  # pip install pandas \n",
        "  # pip install numpy\n",
        "  # import pandas as pd \n",
        "  # import numpy as np 　\n",
        "  # df_raw = pd.read_csv(\"csv_name\")\n",
        "\n",
        "# variavble name\n",
        "  RESP = \"\"\n",
        "  Validity = \"\"\n",
        "  SOA = \"\"\n",
        "  ACC = \"\"\n",
        "  RT = \"\"\n",
        "  \n",
        "# sorting\n",
        "  conditions = {\"condition1\" : [\"valid\", 50], \"condition2\" : [\"invalid\", 300]}\n",
        "  # conditions = {\"condition1\" : [\"valid\", \"iihito\", \"450\"], \"condition2\": [\"valid\", \"iihito\", \"1000\"], \"condition3\": [\"valid\", \"waruihito\", \"450\"], \"condition4\" : [\"valid\", \"waruihito\", \"1000\"], \"condition5\" : [\"valid\", \"darasinai\",\"450], \"condition6\":[\"valid\", \"darasinai\", \"1000\"] , \"condition7\" : [\"invalid\", \"iihito\", \"450\"], \"condition8\": [\"invalid\", \"iihito\", \"1000\"], \"condition9\": [\"invalid\", \"waruihito\", \"450\"], \"condition10\" : [\"invalid\", \"waruihito\", \"1000\"], \"condition11\" : [\"invalid\", \"darasinai\",\"450], \"condition12\":[\"invalid\", \"darasinai\", \"1000\"] }\n",
        "  for condition in conditions.values():\n",
        "    df = df_raw[(df_raw[\"Validity\"] == condition[0]) & (df_raw[\"SOA\"] == condition[1]) ]\n",
        "\n",
        "# basic statistical info\n",
        "    describe_df = df.describe()\n",
        "    print(describe_df)\n",
        "# count the number of no-response trials and calculate its percentage\n",
        "    no_res_df = df[df[\"RESP\"].isnull()]\n",
        "    print(no_res_df)\n",
        "    no_res_count = no_res_df.count()\n",
        "    print(no_res_count)\n",
        "\n",
        "# ACC\n",
        "    df_w_res = df[(df[\"RESP\"] == \"f\") | (df[\"RESP\"] == \"j\")]\n",
        "    acc = df_w_res[\"ACC\"].mean()\n",
        "    print(\"ACC=\", acc)\n",
        "\n",
        "# Outlier removal\n",
        "    stdvs = df_w_res[\"RT\"].std()\n",
        "    mean = df_w_res[\"RT\"].mean()\n",
        "    print(\"SD=\", stdvs)\n",
        "    print(\"M=\", mean)\n",
        "    df_outlier = df_w_res[(df_w_res[\"RT\"] < mean-alpha*stdvs) | (df_w_res[\"RT\"] > mean+alpha*stdvs)]\n",
        "    print(df_outlier)\n",
        "    df_wo_outlier = df_w_res[(df_w_res[\"RT\"] >= mean-alpha*stdvs) & (df_w_res[\"RT\"] <= mean+alpha*stdvs)]\n",
        "    df2 = df_wo_outlier\n",
        "    print(df2)\n",
        "\n",
        "# RT\n",
        "    rt = df2[\"RT\"].mean()\n",
        "    print(\"RT=\", rt)"
      ],
      "execution_count": 109,
      "outputs": []
    },
    {
      "cell_type": "code",
      "metadata": {
        "colab": {
          "base_uri": "https://localhost:8080/"
        },
        "id": "W5Bu0euTg1Ih",
        "outputId": "bc20de9d-c61f-4064-9bea-9e429e3e291f"
      },
      "source": [
        "individual(df, 2)"
      ],
      "execution_count": 110,
      "outputs": [
        {
          "output_type": "stream",
          "text": [
            "       Unnamed: 0   SOA          RT   ACC\n",
            "count    4.000000   4.0    3.000000  4.00\n",
            "mean     5.000000  50.0  381.333333  0.75\n",
            "std      3.651484   0.0  169.119287  0.50\n",
            "min      1.000000  50.0  234.000000  0.00\n",
            "25%      2.500000  50.0  289.000000  0.75\n",
            "50%      5.000000  50.0  344.000000  1.00\n",
            "75%      7.500000  50.0  455.000000  1.00\n",
            "max      9.000000  50.0  566.000000  1.00\n",
            "   Unnamed: 0 Validity  SOA RESP  RT  ACC\n",
            "8           9    valid   50  NaN NaN    0\n",
            "Unnamed: 0    1\n",
            "Validity      1\n",
            "SOA           1\n",
            "RESP          0\n",
            "RT            0\n",
            "ACC           1\n",
            "dtype: int64\n",
            "ACC= 1.0\n",
            "SD= 169.1192872895736\n",
            "M= 381.3333333333333\n",
            "Empty DataFrame\n",
            "Columns: [Unnamed: 0, Validity, SOA, RESP, RT, ACC]\n",
            "Index: []\n",
            "   Unnamed: 0 Validity  SOA RESP     RT  ACC\n",
            "0           1    valid   50    f  234.0    1\n",
            "2           3    valid   50    f  344.0    1\n",
            "6           7    valid   50    j  566.0    1\n",
            "RT= 381.3333333333333\n",
            "       Unnamed: 0    SOA          RT   ACC\n",
            "count    4.000000    4.0    4.000000  4.00\n",
            "mean     6.000000  300.0  446.750000  0.75\n",
            "std      3.651484    0.0  159.644136  0.50\n",
            "min      2.000000  300.0  222.000000  0.00\n",
            "25%      3.500000  300.0  388.500000  0.75\n",
            "50%      6.000000  300.0  499.500000  1.00\n",
            "75%      8.500000  300.0  557.750000  1.00\n",
            "max     10.000000  300.0  566.000000  1.00\n",
            "Empty DataFrame\n",
            "Columns: [Unnamed: 0, Validity, SOA, RESP, RT, ACC]\n",
            "Index: []\n",
            "Unnamed: 0    0\n",
            "Validity      0\n",
            "SOA           0\n",
            "RESP          0\n",
            "RT            0\n",
            "ACC           0\n",
            "dtype: int64\n",
            "ACC= 0.75\n",
            "SD= 159.6441355014333\n",
            "M= 446.75\n",
            "Empty DataFrame\n",
            "Columns: [Unnamed: 0, Validity, SOA, RESP, RT, ACC]\n",
            "Index: []\n",
            "   Unnamed: 0 Validity  SOA RESP     RT  ACC\n",
            "1           2  invalid  300    j  222.0    1\n",
            "3           4  invalid  300    j  566.0    0\n",
            "7           8  invalid  300    f  444.0    1\n",
            "9          10  invalid  300    j  555.0    1\n",
            "RT= 446.75\n"
          ],
          "name": "stdout"
        }
      ]
    },
    {
      "cell_type": "code",
      "metadata": {
        "id": "rrPzaNGCjcdA"
      },
      "source": [
        "    no_res = no_res_df.count()\n",
        "    return(no_res)\n",
        "    print(no_res)\n",
        "\n",
        "    "
      ],
      "execution_count": null,
      "outputs": []
    }
  ]
}